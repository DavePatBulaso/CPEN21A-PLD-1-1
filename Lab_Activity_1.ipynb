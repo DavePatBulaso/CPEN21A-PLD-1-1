{
  "nbformat": 4,
  "nbformat_minor": 0,
  "metadata": {
    "colab": {
      "provenance": [],
      "authorship_tag": "ABX9TyNFuMdS8oX1DHZLTs0dw1ak",
      "include_colab_link": true
    },
    "kernelspec": {
      "name": "python3",
      "display_name": "Python 3"
    },
    "language_info": {
      "name": "python"
    }
  },
  "cells": [
    {
      "cell_type": "markdown",
      "metadata": {
        "id": "view-in-github",
        "colab_type": "text"
      },
      "source": [
        "<a href=\"https://colab.research.google.com/github/DavePatBulaso/CPEN21A-PLD-1-1/blob/main/Lab_Activity_1.ipynb\" target=\"_parent\"><img src=\"https://colab.research.google.com/assets/colab-badge.svg\" alt=\"Open In Colab\"/></a>"
      ]
    },
    {
      "cell_type": "code",
      "execution_count": 97,
      "metadata": {
        "colab": {
          "base_uri": "https://localhost:8080/"
        },
        "id": "HoBMp10WjLKJ",
        "outputId": "aab4bbcd-13fd-49a4-dfde-e260a6deeb36"
      },
      "outputs": [
        {
          "output_type": "stream",
          "name": "stdout",
          "text": [
            "210\n",
            "10.5\n"
          ]
        }
      ],
      "source": [
        "#Problem 1\n",
        "\n",
        "n = 20\n",
        "totalnumber = n\n",
        "sum = 0\n",
        "average = 0\n",
        "\n",
        "while n>=0:\n",
        "  sum += n\n",
        "  n -= 1\n",
        "\n",
        "average = sum/totalnumber\n",
        "print(sum)\n",
        "print(average)"
      ]
    },
    {
      "cell_type": "code",
      "source": [
        "#Problem 2\n",
        "\n",
        "class Student:\n",
        "  def __init__(student, name, student_num, age, school, course):\n",
        "    student.name = name\n",
        "    student.student_num = student_num\n",
        "    student.age = age\n",
        "    student.school = school\n",
        "    student.course = course\n",
        "\n",
        "  def Info(student):\n",
        "    return student.name + student.student_num + student.age + student.school + student.course\n",
        "\n",
        "Myself = Student(\"Dave Patrick I. Bulaso \\n\", \"202200325 \\n\", \"18 years old \\n\", \"Cavite State University (CvSU) Main - Indang \\n\", \"BSCPE 1-1\")\n",
        "print(\"Student's Information: \\n\" + Myself.Info())"
      ],
      "metadata": {
        "colab": {
          "base_uri": "https://localhost:8080/"
        },
        "id": "IwSgDlwjn_Ad",
        "outputId": "bf752b39-7444-4194-afb9-671ad4514a82"
      },
      "execution_count": 98,
      "outputs": [
        {
          "output_type": "stream",
          "name": "stdout",
          "text": [
            "Student's Information: \n",
            "Dave Patrick I. Bulaso \n",
            "202200325 \n",
            "18 years old \n",
            "Cavite State University (CvSU) Main - Indang \n",
            "BSCPE 1-1\n"
          ]
        }
      ]
    }
  ]
}