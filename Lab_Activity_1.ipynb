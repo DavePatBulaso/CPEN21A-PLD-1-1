{
  "nbformat": 4,
  "nbformat_minor": 0,
  "metadata": {
    "colab": {
      "provenance": [],
      "authorship_tag": "ABX9TyN1hWqTn95pjNGuq8oenbWf",
      "include_colab_link": true
    },
    "kernelspec": {
      "name": "python3",
      "display_name": "Python 3"
    },
    "language_info": {
      "name": "python"
    }
  },
  "cells": [
    {
      "cell_type": "markdown",
      "metadata": {
        "id": "view-in-github",
        "colab_type": "text"
      },
      "source": [
        "<a href=\"https://colab.research.google.com/github/DavePatBulaso/CPEN21A-PLD-1-1/blob/main/Lab_Activity_1.ipynb\" target=\"_parent\"><img src=\"https://colab.research.google.com/assets/colab-badge.svg\" alt=\"Open In Colab\"/></a>"
      ]
    },
    {
      "cell_type": "code",
      "execution_count": 89,
      "metadata": {
        "colab": {
          "base_uri": "https://localhost:8080/"
        },
        "id": "HoBMp10WjLKJ",
        "outputId": "c0d23341-0db9-469f-b853-ce72bc7c24da"
      },
      "outputs": [
        {
          "output_type": "stream",
          "name": "stdout",
          "text": [
            "55\n",
            "5.5\n"
          ]
        }
      ],
      "source": [
        "#Problem 1\n",
        "\n",
        "n = 20\n",
        "total_num = n\n",
        "sum = 0\n",
        "average = 0\n",
        "\n",
        "while n>=0:\n",
        "  sum += n\n",
        "  n -= 1\n",
        "\n",
        "average = sum/total_num\n",
        "print(sum)\n",
        "print(average)"
      ]
    },
    {
      "cell_type": "code",
      "source": [
        "#Problem 2\n",
        "\n",
        "class Student:\n",
        "  def __init__(student, name, student_num, age, school, course):\n",
        "    student.name = name\n",
        "    student.student_num = student_num\n",
        "    student.age = age\n",
        "    student.school = school\n",
        "    student.course = course\n",
        "\n",
        "  def info(student):\n",
        "    return student.name + student.student_num + student.age + student.school + student.course\n",
        "\n",
        "Myself = Student(\"Dave Patrick I. Bulaso \\n\", \"202200325 \\n\", \"18 years old \\n\", \"Cavte State University (CvSU) Main - Indang \\n\", \"BSCPE\")\n",
        "print(\"Student's Information: \\n\" + Myself.info())"
      ],
      "metadata": {
        "colab": {
          "base_uri": "https://localhost:8080/"
        },
        "id": "IwSgDlwjn_Ad",
        "outputId": "b156aded-6b1b-4744-9878-0af615e4ff6a"
      },
      "execution_count": 78,
      "outputs": [
        {
          "output_type": "stream",
          "name": "stdout",
          "text": [
            "Student's Information: \n",
            "Dave Patrick I. Bulaso \n",
            "202200325 \n",
            "18 years old \n",
            "Cavte State University (CvSU) Main - Indang \n",
            "BSCPE\n"
          ]
        }
      ]
    }
  ]
}