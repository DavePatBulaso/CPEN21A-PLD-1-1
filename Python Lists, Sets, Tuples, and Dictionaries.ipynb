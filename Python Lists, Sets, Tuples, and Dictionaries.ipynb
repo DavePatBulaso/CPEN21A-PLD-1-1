{
  "nbformat": 4,
  "nbformat_minor": 0,
  "metadata": {
    "colab": {
      "provenance": [],
      "authorship_tag": "ABX9TyPqulVKNfz8WvEjLZi7WzF9",
      "include_colab_link": true
    },
    "kernelspec": {
      "name": "python3",
      "display_name": "Python 3"
    },
    "language_info": {
      "name": "python"
    }
  },
  "cells": [
    {
      "cell_type": "markdown",
      "metadata": {
        "id": "view-in-github",
        "colab_type": "text"
      },
      "source": [
        "<a href=\"https://colab.research.google.com/github/DavePatBulaso/CPEN21A-PLD-1-1/blob/main/Python%20Lists%2C%20Sets%2C%20Tuples%2C%20and%20Dictionaries.ipynb\" target=\"_parent\"><img src=\"https://colab.research.google.com/assets/colab-badge.svg\" alt=\"Open In Colab\"/></a>"
      ]
    },
    {
      "cell_type": "code",
      "execution_count": 10,
      "metadata": {
        "colab": {
          "base_uri": "https://localhost:8080/"
        },
        "id": "nYgemRXw0mjl",
        "outputId": "82e3f162-3964-4aa8-d9cd-f9d79c4da973"
      },
      "outputs": [
        {
          "output_type": "stream",
          "name": "stdout",
          "text": [
            "1\n",
            "World!\n",
            "3.14159\n",
            "[1, 2, 'A', 'B', 'Hello!', 'World!']\n"
          ]
        }
      ],
      "source": [
        "#Lists\n",
        "pi = 3.14159\n",
        "varList=[1, 2, 'A', 'B', 'Hello!', pi]\n",
        "print(varList[0])\n",
        "\n",
        "varList.append('World!')\n",
        "print(varList[6])\n",
        "\n",
        "len(varList)\n",
        "\n",
        "print(varList[5])\n",
        "\n",
        "varList.remove(pi)\n",
        "print(varList)"
      ]
    },
    {
      "cell_type": "code",
      "source": [
        "#Python Dictionary\n",
        "var = \"Hello World\"\n",
        "thisDict = {  \n",
        "            'first' : 123, \n",
        "            2 : 'abc', \n",
        "            3 : var, \n",
        "            4 : ['lista', 'listb'],\n",
        "            \"name\" : \"Ana\",\n",
        "            \"age\" : 25,\n",
        "            \"bday\" : \"January 9, 2012\",\n",
        "            \"age\" : 26\n",
        "\n",
        "            }\n",
        "\n",
        "print(thisDict['first'])\n",
        "\n",
        "print(thisDict[\"name\"])\n",
        "\n",
        "print(thisDict)"
      ],
      "metadata": {
        "colab": {
          "base_uri": "https://localhost:8080/"
        },
        "id": "DVIkP2CC1MVt",
        "outputId": "dfd00eb3-23c7-4ebb-cae3-48efdcbdd3fe"
      },
      "execution_count": 18,
      "outputs": [
        {
          "output_type": "stream",
          "name": "stdout",
          "text": [
            "123\n",
            "Ana\n",
            "{'first': 123, 2: 'abc', 3: 'Hello World', 4: ['lista', 'listb'], 'name': 'Ana', 'age': 26, 'bday': 'January 9, 2012'}\n"
          ]
        }
      ]
    },
    {
      "cell_type": "code",
      "source": [
        "#List Generations and Comprehension\n",
        "def gen_num_up_to(n):\n",
        "  num = 0\n",
        "  while num < n:\n",
        "    yield num\n",
        "    num += 1\n",
        "\n",
        "gen_num_up_to(5)\n",
        "\n",
        "varList = gen_num_up_to(5)\n",
        "print([var for var in varList])\n",
        "\n",
        "def gen_num_up_to(n):\n",
        "  num = 0\n",
        "  while num < n:\n",
        "    yield num\n",
        "    num += 2\n",
        "\n",
        "varList = gen_num_up_to(5)\n",
        "print([var for var in varList])\n",
        "\n",
        "varList = range(0, 5, 2)\n",
        "print([var for var in varList])"
      ],
      "metadata": {
        "colab": {
          "base_uri": "https://localhost:8080/"
        },
        "id": "79iZq84n2awD",
        "outputId": "1a64747b-f917-46ac-93c2-0ca4d5d7632a"
      },
      "execution_count": 26,
      "outputs": [
        {
          "output_type": "stream",
          "name": "stdout",
          "text": [
            "[0, 1, 2, 3, 4]\n",
            "[0, 2, 4]\n",
            "[0, 2, 4]\n"
          ]
        }
      ]
    },
    {
      "cell_type": "code",
      "source": [
        "#Slicing\n",
        "varList = [1, 2, 3, 4, 5, 6, 7, 8, 9 , 10]\n",
        "print(varList)\n",
        "print(varList[5:])\n",
        "print(varList[:5])\n",
        "print(varList[:-2])\n",
        "print(varList[-2:])\n",
        "print(varList[2:-2])\n",
        "print(varList[2:8:2])\n",
        "\n",
        "varList = range(0, 5, 4)\n",
        "print([var for var in varList])"
      ],
      "metadata": {
        "colab": {
          "base_uri": "https://localhost:8080/"
        },
        "id": "nbBLmCU93SrE",
        "outputId": "83cc72f2-d250-4658-c2e9-ae846e8c8fb8"
      },
      "execution_count": 50,
      "outputs": [
        {
          "output_type": "stream",
          "name": "stdout",
          "text": [
            "[1, 2, 3, 4, 5, 6, 7, 8, 9, 10]\n",
            "[6, 7, 8, 9, 10]\n",
            "[1, 2, 3, 4, 5]\n",
            "[1, 2, 3, 4, 5, 6, 7, 8]\n",
            "[9, 10]\n",
            "[3, 4, 5, 6, 7, 8]\n",
            "[3, 5, 7]\n",
            "[0, 4]\n"
          ]
        }
      ]
    }
  ]
}