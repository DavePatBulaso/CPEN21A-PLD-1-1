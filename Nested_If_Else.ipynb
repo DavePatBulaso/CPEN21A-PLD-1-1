{
  "nbformat": 4,
  "nbformat_minor": 0,
  "metadata": {
    "colab": {
      "provenance": [],
      "authorship_tag": "ABX9TyN+UpcZGYWzEMtZ9CjOP9IA",
      "include_colab_link": true
    },
    "kernelspec": {
      "name": "python3",
      "display_name": "Python 3"
    },
    "language_info": {
      "name": "python"
    }
  },
  "cells": [
    {
      "cell_type": "markdown",
      "metadata": {
        "id": "view-in-github",
        "colab_type": "text"
      },
      "source": [
        "<a href=\"https://colab.research.google.com/github/DavePatBulaso/CPEN21A-PLD-1-1/blob/main/Nested_If_Else.ipynb\" target=\"_parent\"><img src=\"https://colab.research.google.com/assets/colab-badge.svg\" alt=\"Open In Colab\"/></a>"
      ]
    },
    {
      "cell_type": "code",
      "execution_count": null,
      "metadata": {
        "id": "ItwgZvdzXmmU"
      },
      "outputs": [],
      "source": []
    },
    {
      "cell_type": "markdown",
      "source": [
        "##Nested If Else"
      ],
      "metadata": {
        "id": "nZtxb8rlXpU_"
      }
    },
    {
      "cell_type": "code",
      "source": [
        "print(\"Enter a number: \")\n",
        "x = int(input())\n",
        "if x>10:\n",
        "  print(\"above 10\")\n",
        "  if x<20:\n",
        "    print(\"below 10\")\n",
        "  else:\n",
        "    print(\"above 20\")\n",
        "    if x<30:\n",
        "      print(\"below 30\")\n",
        "    else:\n",
        "      print(\"above 30\")\n",
        "      if x<40:\n",
        "        print(\"below 40\")\n",
        "      else:\n",
        "        print(\"above 40\")\n",
        "        if x<50:\n",
        "          print(\"below 50\")\n",
        "        else:\n",
        "          print(\"above 50\")\n",
        "\n",
        "      \n",
        "\n",
        "else:\n",
        "  print(\"Not above 10\")"
      ],
      "metadata": {
        "colab": {
          "base_uri": "https://localhost:8080/"
        },
        "id": "66YzpN8XXq7p",
        "outputId": "3437aa60-3f13-4445-80ab-e6ce791a62f3"
      },
      "execution_count": 35,
      "outputs": [
        {
          "output_type": "stream",
          "name": "stdout",
          "text": [
            "Enter a number: \n",
            "70\n",
            "above 10\n",
            "above 20\n",
            "above 30\n",
            "above 40\n",
            "above 50\n"
          ]
        }
      ]
    }
  ]
}