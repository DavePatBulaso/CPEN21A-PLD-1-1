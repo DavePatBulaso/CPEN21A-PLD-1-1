{
  "nbformat": 4,
  "nbformat_minor": 0,
  "metadata": {
    "colab": {
      "provenance": [],
      "authorship_tag": "ABX9TyPg+TfmJ2OA+h+WoFTIJcCM",
      "include_colab_link": true
    },
    "kernelspec": {
      "name": "python3",
      "display_name": "Python 3"
    },
    "language_info": {
      "name": "python"
    }
  },
  "cells": [
    {
      "cell_type": "markdown",
      "metadata": {
        "id": "view-in-github",
        "colab_type": "text"
      },
      "source": [
        "<a href=\"https://colab.research.google.com/github/DavePatBulaso/CPEN21A-PLD-1-1/blob/main/Nested_If_Else.ipynb\" target=\"_parent\"><img src=\"https://colab.research.google.com/assets/colab-badge.svg\" alt=\"Open In Colab\"/></a>"
      ]
    },
    {
      "cell_type": "code",
      "execution_count": null,
      "metadata": {
        "id": "Kei0dUg4fT-Q"
      },
      "outputs": [],
      "source": []
    },
    {
      "cell_type": "markdown",
      "source": [
        "##Nested If Else"
      ],
      "metadata": {
        "id": "rzE-MRq-ryct"
      }
    },
    {
      "cell_type": "code",
      "source": [
        "print(\"Enter a number: \")\n",
        "x = int(input())\n",
        "if x>10:\n",
        "  print(\"above 10\")\n",
        "  if x<20:\n",
        "    print(\"below 10\")\n",
        "  else:\n",
        "    print(\"above 20\")\n",
        "    if x<30:\n",
        "      print(\"below 30\")\n",
        "    else:\n",
        "      print(\"above 30\")\n",
        "      if x<40:\n",
        "        print(\"below 40\")\n",
        "      else:\n",
        "        print(\"above 40\")\n",
        "        if x<50:\n",
        "          print(\"below 50\")\n",
        "        else:\n",
        "          print(\"above 50\")\n",
        "else:\n",
        "  print(\"Not above 10\")"
      ],
      "metadata": {
        "colab": {
          "base_uri": "https://localhost:8080/"
        },
        "id": "RIzJ_TGurz5L",
        "outputId": "ca0ec925-6af0-41ec-b8de-2d7e6bf9a2d9"
      },
      "execution_count": 90,
      "outputs": [
        {
          "output_type": "stream",
          "name": "stdout",
          "text": [
            "Enter a number: \n",
            "3\n",
            "Not above 10\n"
          ]
        }
      ]
    },
    {
      "cell_type": "markdown",
      "source": [
        "##Example 1"
      ],
      "metadata": {
        "id": "xqZdtMirfUos"
      }
    },
    {
      "cell_type": "code",
      "source": [
        "age = int(input(\"Type your age: \"))\n",
        "if age >= 18:\n",
        "  print(\"You are eligible for voting, make your vote count!\")\n",
        "elif age < 18:\n",
        "  print(\"You are ineligible for the qualifying age of voting.\")"
      ],
      "metadata": {
        "colab": {
          "base_uri": "https://localhost:8080/"
        },
        "id": "BJiGa8F9fVn_",
        "outputId": "0e662a6b-d757-46cd-b3c6-2a111056f500"
      },
      "execution_count": 89,
      "outputs": [
        {
          "output_type": "stream",
          "name": "stdout",
          "text": [
            "Type your age: -3\n",
            "You are ineligible for the qualifying age of voting.\n"
          ]
        }
      ]
    },
    {
      "cell_type": "markdown",
      "source": [
        "##Example 2"
      ],
      "metadata": {
        "id": "wDl-Ivb3fVxk"
      }
    },
    {
      "cell_type": "code",
      "source": [
        "num = int(input(\"Type your number: \"))\n",
        "if num > 0:\n",
        "  print(\"You have a positive number.\")\n",
        "elif num < 0:\n",
        "    print(\"You have a negative number.\")\n",
        "elif num == 0:\n",
        "  print(\"You have zero.\")"
      ],
      "metadata": {
        "id": "w1_kMeY2fXAj",
        "colab": {
          "base_uri": "https://localhost:8080/"
        },
        "outputId": "a36b86a0-c193-4fb6-c0a1-97c5864b9277"
      },
      "execution_count": 77,
      "outputs": [
        {
          "output_type": "stream",
          "name": "stdout",
          "text": [
            "Type your number: 4\n",
            "You have a positive number.\n"
          ]
        }
      ]
    },
    {
      "cell_type": "markdown",
      "source": [
        "##Example 3"
      ],
      "metadata": {
        "id": "2b2h---EfXRx"
      }
    },
    {
      "cell_type": "code",
      "source": [
        "grade = int(input(\"Type your grade: \"))\n",
        "if grade >= 75:\n",
        "  print(\"You have passed.\")\n",
        "elif grade == 74:\n",
        "  print(\"You have to take remedial classes.\")\n",
        "elif grade < 0:\n",
        "  print(\"You have invalid grades.\")\n",
        "elif grade < 74:\n",
        "    print(\"You have failed\")"
      ],
      "metadata": {
        "colab": {
          "base_uri": "https://localhost:8080/"
        },
        "id": "HRgPO4qsfZz9",
        "outputId": "2159f05d-58e0-452b-ac65-157bf975afa1"
      },
      "execution_count": 88,
      "outputs": [
        {
          "output_type": "stream",
          "name": "stdout",
          "text": [
            "Type your grade: -3\n",
            "You have invalid grades.\n"
          ]
        }
      ]
    }
  ]
}