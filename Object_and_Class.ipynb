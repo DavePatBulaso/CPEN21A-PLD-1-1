{
  "nbformat": 4,
  "nbformat_minor": 0,
  "metadata": {
    "colab": {
      "provenance": [],
      "authorship_tag": "ABX9TyMgk6RnGII1c7Hi3vAqAPmS",
      "include_colab_link": true
    },
    "kernelspec": {
      "name": "python3",
      "display_name": "Python 3"
    },
    "language_info": {
      "name": "python"
    }
  },
  "cells": [
    {
      "cell_type": "markdown",
      "metadata": {
        "id": "view-in-github",
        "colab_type": "text"
      },
      "source": [
        "<a href=\"https://colab.research.google.com/github/DavePatBulaso/CPEN21A-PLD-1-1/blob/main/Object_and_Class.ipynb\" target=\"_parent\"><img src=\"https://colab.research.google.com/assets/colab-badge.svg\" alt=\"Open In Colab\"/></a>"
      ]
    },
    {
      "cell_type": "code",
      "execution_count": 12,
      "metadata": {
        "colab": {
          "base_uri": "https://localhost:8080/"
        },
        "id": "r1hgymtP1M-C",
        "outputId": "e1a9b18e-4754-4d5c-ffc3-e4357c78b68e"
      },
      "outputs": [
        {
          "output_type": "stream",
          "name": "stdout",
          "text": [
            "My name is Dave\n",
            "My age is 18\n",
            "Ana\n",
            "20\n"
          ]
        }
      ],
      "source": [
        "#Creating class and object\n",
        "\n",
        "class Person:                          #creating class named as Person\n",
        "  def __init__(self, name, age):\n",
        "    self.name = name\n",
        "    self.age = age\n",
        "\n",
        "person = Person(\"Dave\",18)            #creating object name person\n",
        "print(\"My name is\",person.name)\n",
        "print(\"My age is\",person.age)\n",
        "\n",
        "class Student(Person):\n",
        "  pass\n",
        "\n",
        "student = Student(\"Ana\", 20)\n",
        "print(student.name)\n",
        "print(student.age)"
      ]
    },
    {
      "cell_type": "code",
      "source": [
        "#Application 1\n",
        "\n",
        "#Write a Python that:\n",
        "#Use Shape as parent class name\n",
        "#Use Square as child class that inherits the attributes of the parent class\n",
        "#Use Area () and Perimeter () as methods to retrieve its values by assigning the instance of the object\n",
        "\n",
        "class Shape:\n",
        "  def __init__(self, area, perimeter):\n",
        "    self.area = area\n",
        "    self.perimeter = perimeter\n",
        "\n",
        "shape = Shape(10, 5)\n",
        "print(shape.area)\n",
        "print(shape.perimeter)\n",
        "\n",
        "class Square(Shape):\n",
        "  pass\n",
        "\n",
        "square = Square(100, 200)\n",
        "print(square.area)\n",
        "print(square.perimeter)"
      ],
      "metadata": {
        "colab": {
          "base_uri": "https://localhost:8080/"
        },
        "id": "VUr5g2QZ3xzJ",
        "outputId": "0ac2f9d7-d13c-4200-af6b-92d2eb44ff67"
      },
      "execution_count": 20,
      "outputs": [
        {
          "output_type": "stream",
          "name": "stdout",
          "text": [
            "10\n",
            "5\n",
            "100\n",
            "200\n"
          ]
        }
      ]
    },
    {
      "cell_type": "code",
      "source": [],
      "metadata": {
        "id": "XrQe4XcC2Zqn"
      },
      "execution_count": null,
      "outputs": []
    }
  ]
}