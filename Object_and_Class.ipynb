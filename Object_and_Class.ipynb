{
  "nbformat": 4,
  "nbformat_minor": 0,
  "metadata": {
    "colab": {
      "provenance": [],
      "authorship_tag": "ABX9TyPac5x6OEeUB3EM/48sa1fn",
      "include_colab_link": true
    },
    "kernelspec": {
      "name": "python3",
      "display_name": "Python 3"
    },
    "language_info": {
      "name": "python"
    }
  },
  "cells": [
    {
      "cell_type": "markdown",
      "metadata": {
        "id": "view-in-github",
        "colab_type": "text"
      },
      "source": [
        "<a href=\"https://colab.research.google.com/github/DavePatBulaso/CPEN21A-PLD-1-1/blob/main/Object_and_Class.ipynb\" target=\"_parent\"><img src=\"https://colab.research.google.com/assets/colab-badge.svg\" alt=\"Open In Colab\"/></a>"
      ]
    },
    {
      "cell_type": "code",
      "execution_count": null,
      "metadata": {
        "colab": {
          "base_uri": "https://localhost:8080/"
        },
        "id": "r1hgymtP1M-C",
        "outputId": "e1a9b18e-4754-4d5c-ffc3-e4357c78b68e"
      },
      "outputs": [
        {
          "output_type": "stream",
          "name": "stdout",
          "text": [
            "My name is Dave\n",
            "My age is 18\n",
            "Ana\n",
            "20\n"
          ]
        }
      ],
      "source": [
        "#Creating class and object\n",
        "\n",
        "class Person:                          #creating class named as Person\n",
        "  def __init__(self, name, age):\n",
        "    self.name = name\n",
        "    self.age = age\n",
        "\n",
        "person = Person(\"Dave\",18)            #creating object name person\n",
        "print(\"My name is\",person.name)\n",
        "print(\"My age is\",person.age)\n",
        "\n",
        "class Student(Person):\n",
        "  pass\n",
        "\n",
        "student = Student(\"Ana\", 20)\n",
        "print(student.name)\n",
        "print(student.age)"
      ]
    },
    {
      "cell_type": "code",
      "source": [
        "#Application 1\n",
        "\n",
        "# Write a Python program that computes for the area and perimeter of a rectangle\n",
        "# Use the Shape as parent class\n",
        "# Use Area() and Perimeter () as methods with its attributes length and width\n",
        "# Use Rectangle as child class\n",
        "\n",
        "\n",
        "class Shape:\n",
        "  def __init__(self, length, width):\n",
        "    self.length = length\n",
        "    self.width = width\n",
        "    \n",
        "  def Area(self):\n",
        "    return self.length * self.width\n",
        "\n",
        "  def Perimeter(self):\n",
        "    return (self.length + self.width) * 2\n",
        "\n",
        "  def display(self):\n",
        "    print(\"The area of a rectangle is\", self.Area())\n",
        "    print(\"The perimeter of a rectangle is\", self.Perimeter())\n",
        "\n",
        "class Rectangle(Shape):\n",
        "  pass\n",
        "\n",
        "rectangle = Shape(10, 5)\n",
        "rectangle2 = Rectangle(10, 5)\n",
        "rectangle.display()\n",
        "rectangle2.display()"
      ],
      "metadata": {
        "colab": {
          "base_uri": "https://localhost:8080/"
        },
        "id": "VUr5g2QZ3xzJ",
        "outputId": "3f070350-615e-4da8-bbb2-c4d34f74ca0b"
      },
      "execution_count": 13,
      "outputs": [
        {
          "output_type": "stream",
          "name": "stdout",
          "text": [
            "The area of a rectangle is 50\n",
            "The perimeter of a rectangle is 30\n",
            "The area of a rectangle is 50\n",
            "The perimeter of a rectangle is 30\n"
          ]
        }
      ]
    },
    {
      "cell_type": "code",
      "source": [],
      "metadata": {
        "id": "XrQe4XcC2Zqn"
      },
      "execution_count": null,
      "outputs": []
    }
  ]
}