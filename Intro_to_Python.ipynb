{
  "nbformat": 4,
  "nbformat_minor": 0,
  "metadata": {
    "colab": {
      "provenance": [],
      "authorship_tag": "ABX9TyNi9Vpg/0uKJtjSQRPNFsy5",
      "include_colab_link": true
    },
    "kernelspec": {
      "name": "python3",
      "display_name": "Python 3"
    },
    "language_info": {
      "name": "python"
    }
  },
  "cells": [
    {
      "cell_type": "markdown",
      "metadata": {
        "id": "view-in-github",
        "colab_type": "text"
      },
      "source": [
        "<a href=\"https://colab.research.google.com/github/DavePatBulaso/CPEN21A-PLD-1-1/blob/main/Intro_to_Python.ipynb\" target=\"_parent\"><img src=\"https://colab.research.google.com/assets/colab-badge.svg\" alt=\"Open In Colab\"/></a>"
      ]
    },
    {
      "cell_type": "markdown",
      "source": [
        "#Indentation"
      ],
      "metadata": {
        "id": "zj-ZQtxNHA_R"
      }
    },
    {
      "cell_type": "code",
      "source": [
        "if 5>3:\n",
        "  print(\"Five is greater than 3\")"
      ],
      "metadata": {
        "id": "-sJMB7nSHSRn"
      },
      "execution_count": null,
      "outputs": []
    },
    {
      "cell_type": "markdown",
      "source": [
        "Variable Declaration"
      ],
      "metadata": {
        "id": "5izllcJiHoW-"
      }
    },
    {
      "cell_type": "code",
      "source": [
        "#variable with a single value\n",
        "\n",
        "x=5\n",
        "y=3\n",
        "if x>y:\n",
        "  print(\"x is greater than y\")\n",
        "\n",
        "#variable with multiple values\n",
        "\n",
        "a,b = 1,2\n",
        "print(\"The value of a is: \",a)\n",
        "print(\"The value of a is: \",b)\n",
        "\n",
        "x = y = z = \"four\"\n",
        "print(x)\n",
        "print(y)\n",
        "print(z)"
      ],
      "metadata": {
        "colab": {
          "base_uri": "https://localhost:8080/"
        },
        "id": "S8rswqDIHsHE",
        "outputId": "78c618d5-9299-4dd9-f152-314c8a25a478"
      },
      "execution_count": 17,
      "outputs": [
        {
          "output_type": "stream",
          "name": "stdout",
          "text": [
            "x is greater than y\n",
            "The value of a is:  1\n",
            "The value of a is:  2\n",
            "four\n",
            "four\n",
            "four\n"
          ]
        }
      ]
    },
    {
      "cell_type": "markdown",
      "source": [
        "Output Variable"
      ],
      "metadata": {
        "id": "G0GlFafxJiU7"
      }
    },
    {
      "cell_type": "code",
      "source": [
        "o = \"is enjoying\"\n",
        "print(\"Python programming \"+ o)     #append is enjoying\n",
        "\n",
        "p = \"Python \"\n",
        "z = p+o\n",
        "print(z)"
      ],
      "metadata": {
        "colab": {
          "base_uri": "https://localhost:8080/"
        },
        "id": "ekks6kAZJjfX",
        "outputId": "90046160-a952-4c6a-e64f-fe49528c946d"
      },
      "execution_count": 21,
      "outputs": [
        {
          "output_type": "stream",
          "name": "stdout",
          "text": [
            "Python programming is enjoying\n",
            "Python is enjoying\n"
          ]
        }
      ]
    },
    {
      "cell_type": "markdown",
      "source": [
        "#Casting and type() Function"
      ],
      "metadata": {
        "id": "ohkfrdlxIXt_"
      }
    },
    {
      "cell_type": "code",
      "source": [
        "f = int(4)      #integer\n",
        "g=float(4)      #decimal/fractional\n",
        "\n",
        "print(f)\n",
        "print(g)\n",
        "\n",
        "print(type(f))\n",
        "print(type(g))"
      ],
      "metadata": {
        "colab": {
          "base_uri": "https://localhost:8080/"
        },
        "id": "BE1RoEcWIg0B",
        "outputId": "9d6fec20-8110-4a2b-a774-35aa65f562c9"
      },
      "execution_count": 12,
      "outputs": [
        {
          "output_type": "stream",
          "name": "stdout",
          "text": [
            "4\n",
            "4.0\n",
            "<class 'int'>\n",
            "<class 'float'>\n"
          ]
        }
      ]
    },
    {
      "cell_type": "markdown",
      "source": [
        "Double quote or single quote"
      ],
      "metadata": {
        "id": "L2mJ-FlcI5eA"
      }
    },
    {
      "cell_type": "code",
      "source": [
        "name = \"Maria\"\n",
        "name1 = 'Rizette'\n",
        "\n",
        "print(name)\n",
        "print(name1)"
      ],
      "metadata": {
        "colab": {
          "base_uri": "https://localhost:8080/"
        },
        "id": "O3we1ZOJI7In",
        "outputId": "d478e1b8-ccc3-4c51-fc9a-0d33e01e709b"
      },
      "execution_count": 13,
      "outputs": [
        {
          "output_type": "stream",
          "name": "stdout",
          "text": [
            "Maria\n",
            "Rizette\n"
          ]
        }
      ]
    },
    {
      "cell_type": "markdown",
      "source": [
        "Case Sensitive"
      ],
      "metadata": {
        "id": "qUwOXE6JJHHa"
      }
    },
    {
      "cell_type": "code",
      "source": [
        "a = \"Ana\"\n",
        "print(a)"
      ],
      "metadata": {
        "colab": {
          "base_uri": "https://localhost:8080/"
        },
        "id": "rE5xO-BOJKIF",
        "outputId": "00454b25-38b4-4d33-ba97-1beab6ef6710"
      },
      "execution_count": 15,
      "outputs": [
        {
          "output_type": "stream",
          "name": "stdout",
          "text": [
            "Ana\n"
          ]
        }
      ]
    },
    {
      "cell_type": "markdown",
      "source": [
        "One Value to Multiple Variables"
      ],
      "metadata": {
        "id": "HARXdOeSJTfm"
      }
    },
    {
      "cell_type": "code",
      "source": [
        "x = y = z = \"four\"\n",
        "print(x)\n",
        "print(y)\n",
        "print(z)"
      ],
      "metadata": {
        "colab": {
          "base_uri": "https://localhost:8080/"
        },
        "id": "fi1CkyRhJVqu",
        "outputId": "ef32a531-99a6-4973-9712-513afdd36cf3"
      },
      "execution_count": 16,
      "outputs": [
        {
          "output_type": "stream",
          "name": "stdout",
          "text": [
            "four\n",
            "four\n",
            "four\n"
          ]
        }
      ]
    }
  ]
}